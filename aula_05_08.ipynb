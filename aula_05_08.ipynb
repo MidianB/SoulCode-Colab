{
  "nbformat": 4,
  "nbformat_minor": 0,
  "metadata": {
    "colab": {
      "provenance": [],
      "include_colab_link": true
    },
    "kernelspec": {
      "name": "python3",
      "display_name": "Python 3"
    },
    "language_info": {
      "name": "python"
    }
  },
  "cells": [
    {
      "cell_type": "markdown",
      "metadata": {
        "id": "view-in-github",
        "colab_type": "text"
      },
      "source": [
        "<a href=\"https://colab.research.google.com/github/MidianB/SoulCode-Colab/blob/main/aula_05_08.ipynb\" target=\"_parent\"><img src=\"https://colab.research.google.com/assets/colab-badge.svg\" alt=\"Open In Colab\"/></a>"
      ]
    },
    {
      "cell_type": "code",
      "execution_count": null,
      "metadata": {
        "colab": {
          "base_uri": "https://localhost:8080/"
        },
        "id": "u5gNnoXDe6o3",
        "outputId": "a826a7da-aaa7-41f7-ecff-4523dfc8437d"
      },
      "outputs": [
        {
          "output_type": "stream",
          "name": "stdout",
          "text": [
            "Informe a Receita em R$: 100000\n",
            "Informe o Custo em R$: 70000\n",
            "Informe o PME em dias inteiros: 30\n",
            "Informe o PMR em dias inteiros: 30\n",
            "Informe o PMP em dias inteiros: 30\n",
            "Informe a taxa de juros em %: 5\n",
            "Informe o número de dias da taxa de juros: 30\n",
            "O lucro é R$ 30000.00 e o valor R$ 24036.28\n"
          ]
        }
      ],
      "source": [
        "receita = float(input('Informe a Receita em R$: '))\n",
        "custo = float(input('Informe o Custo em R$: '))\n",
        "pme = int(input('Informe o PME em dias inteiros: '))\n",
        "pmr = int(input('Informe o PMR em dias inteiros: '))\n",
        "pmp = int(input('Informe o PMP em dias inteiros: '))\n",
        "i = (float(input('Informe a taxa de juros em %: ')))/100\n",
        "n = int(input('Informe o número de dias da taxa de juros: '))\n",
        "vp_receita = receita/((1+i)**((pme+pmr)/n))\n",
        "vp_custo = custo/((1+i)**(pmp/n))\n",
        "lucro = receita - custo\n",
        "valor = vp_receita - vp_custo\n",
        "print(f'O lucro é R$ {lucro:.2f} e o valor R$ {valor:.2f}')"
      ]
    },
    {
      "cell_type": "code",
      "source": [
        "'''\n",
        "Neste cenário aumentamos as vendas em 4% e para atingir\n",
        "esse objetivo aumentamos para 60 dias o pmr e isso gerou aumento de lucro,\n",
        "porém diminuição de valor, portanto, é uma proposta que economicamente\n",
        "não é vantajosa para a empresa\n",
        "'''\n",
        "receita = float(input('Informe a Receita em R$: '))\n",
        "custo = float(input('Informe o Custo em R$: '))\n",
        "pme = int(input('Informe o PME em dias inteiros: '))\n",
        "pmr = int(input('Informe o PMR em dias inteiros: '))\n",
        "pmp = int(input('Informe o PMP em dias inteiros: '))\n",
        "i = (float(input('Informe a taxa de juros em %: ')))/100\n",
        "n = int(input('Informe o número de dias da taxa de juros: '))\n",
        "vp_receita = receita/((1+i)**((pme+pmr)/n))\n",
        "vp_custo = custo/((1+i)**(pmp/n))\n",
        "lucro = receita - custo\n",
        "valor = vp_receita - vp_custo\n",
        "print(f'O lucro é R$ {lucro:.2f} e o valor R$ {valor:.2f}')"
      ],
      "metadata": {
        "colab": {
          "base_uri": "https://localhost:8080/"
        },
        "id": "fhXzg07Ci2Cd",
        "outputId": "6bf0c6fe-264c-4c4b-dd74-fb978062f2b5"
      },
      "execution_count": null,
      "outputs": [
        {
          "output_type": "stream",
          "name": "stdout",
          "text": [
            "Informe a Receita em R$: 104000\n",
            "Informe o Custo em R$: 72800\n",
            "Informe o PME em dias inteiros: 30\n",
            "Informe o PMR em dias inteiros: 60\n",
            "Informe o PMP em dias inteiros: 30\n",
            "Informe a taxa de juros em %: 5\n",
            "Informe o número de dias da taxa de juros: 30\n",
            "O lucro é R$ 31200.00 e o valor R$ 20505.78\n"
          ]
        }
      ]
    },
    {
      "cell_type": "code",
      "source": [
        "'''\n",
        "Neste cenário aumentamos nossos custos em R$ 2.000,00 e por\n",
        "conta desse aumento conseguimos um prazo de pagamento (PMP)\n",
        "de 60 dias, isso diminuiu nosso lucro, mas aumentou o valor,\n",
        "portanto, se trata de uma proposta vantajosa.\n",
        "'''\n",
        "receita = float(input('Informe a Receita em R$: '))\n",
        "custo = float(input('Informe o Custo em R$: '))\n",
        "pme = int(input('Informe o PME em dias inteiros: '))\n",
        "pmr = int(input('Informe o PMR em dias inteiros: '))\n",
        "pmp = int(input('Informe o PMP em dias inteiros: '))\n",
        "i = (float(input('Informe a taxa de juros em %: ')))/100\n",
        "n = int(input('Informe o número de dias da taxa de juros: '))\n",
        "vp_receita = receita/((1+i)**((pme+pmr)/n))\n",
        "vp_custo = custo/((1+i)**(pmp/n))\n",
        "lucro = receita - custo\n",
        "valor = vp_receita - vp_custo\n",
        "print(f'O lucro é R$ {lucro:.2f} e o valor R$ {valor:.2f}')"
      ],
      "metadata": {
        "colab": {
          "base_uri": "https://localhost:8080/"
        },
        "id": "gARKxRxpmQip",
        "outputId": "ae1c9088-9728-40c5-b007-126f37f89188"
      },
      "execution_count": null,
      "outputs": [
        {
          "output_type": "stream",
          "name": "stdout",
          "text": [
            "Informe a Receita em R$: 100000\n",
            "Informe o Custo em R$: 72000\n",
            "Informe o PME em dias inteiros: 30\n",
            "Informe o PMR em dias inteiros: 30\n",
            "Informe o PMP em dias inteiros: 60\n",
            "Informe a taxa de juros em %: 5\n",
            "Informe o número de dias da taxa de juros: 30\n",
            "O lucro é R$ 28000.00 e o valor R$ 25396.83\n"
          ]
        }
      ]
    },
    {
      "cell_type": "code",
      "source": [
        "vf = float(input('Informe o valor futuro em R$: '))\n",
        "i = (float(input('Informe a taxa de juros em %: ')))/100\n",
        "n = int(input('Informe o tempo em anos inteiros: '))\n",
        "vp = vf/(1+i)**n\n",
        "print(f'O VP é R$ {vp:,.2f}')"
      ],
      "metadata": {
        "colab": {
          "base_uri": "https://localhost:8080/"
        },
        "id": "pojpYTyDbU3G",
        "outputId": "40a7d866-ebcd-490c-8819-c4ff51904d28"
      },
      "execution_count": null,
      "outputs": [
        {
          "output_type": "stream",
          "name": "stdout",
          "text": [
            "Informe o valor futuro em R$: 50000\n",
            "Informe a taxa de juros em %: 10\n",
            "Informe o tempo em anos inteiros: 5\n",
            "O VP é R$ 31,046.07\n"
          ]
        }
      ]
    },
    {
      "cell_type": "code",
      "source": [
        "taxa = (float(input('Informe a taxa de juros em %: ')))/100\n",
        "caixa = [0, 10000, 20000, 30000, 40000, 50000]\n",
        "caixa_desc = []\n",
        "for i, v in enumerate(caixa):\n",
        "  caixa_desc.append(v/((1+taxa)**i))\n",
        "print(f'{sum(caixa_desc):,.2f}')"
      ],
      "metadata": {
        "colab": {
          "base_uri": "https://localhost:8080/"
        },
        "id": "yT-CTA4kdFLt",
        "outputId": "539dd30c-79e2-4d71-a15b-1548b72a13cf"
      },
      "execution_count": null,
      "outputs": [
        {
          "output_type": "stream",
          "name": "stdout",
          "text": [
            "Informe a taxa de juros em %: 0\n",
            "150,000.00\n"
          ]
        }
      ]
    },
    {
      "cell_type": "code",
      "source": [
        "'''\n",
        "1 - Com uma taxa de 10% ao mês e um prazo de 70 dias, qual será o n?\n",
        " resposta n = 70/30 = 2,3333333\n",
        "\n",
        "2 - Com uma taxa de 15% ao ano e um prazo de 70 dias, qual será o n?\n",
        "\n",
        " resposta n = 70/360 n = 0,19\n",
        "\n",
        "'''"
      ],
      "metadata": {
        "id": "ESK7iXOmrDfr"
      },
      "execution_count": null,
      "outputs": []
    },
    {
      "cell_type": "code",
      "source": [
        "'''\n",
        "Um investidor pretende montar um linha de produção para um novo produto.\n",
        "O investimento inicial em máquinas e equipamentos é de R$ 160.000,00, seu\n",
        "WACC é de 12% ao ano, e os analistas financeiras estimam os seguintes lucros para\n",
        "os próximo 5 anos:\n",
        "\n",
        "Ano 1: R$ 30.000,00\n",
        "Ano 2: R$ 40.000,00\n",
        "Ano 3: R$ 50.000,00\n",
        "Ano 4: R$ 60.000,00\n",
        "Ano 5: R$ 70.000,00\n",
        "Calcule o VPL e conclua se o projeto é ou não viável\n",
        "'''"
      ],
      "metadata": {
        "colab": {
          "base_uri": "https://localhost:8080/"
        },
        "id": "D4Zff8-pqonY",
        "outputId": "28ff5f77-5a26-4763-f687-6304ff665486"
      },
      "execution_count": null,
      "outputs": [
        {
          "output_type": "execute_result",
          "data": {
            "text/plain": [
              "0.19444444444444445"
            ]
          },
          "metadata": {},
          "execution_count": 23
        }
      ]
    },
    {
      "cell_type": "code",
      "source": [
        "investimento = float(input('Informe o valor do investimento em R$: '))\n",
        "dados = input('Informe os valores de retorno separados por espaços: ')\n",
        "taxa = (float(input('Informe a taxa de juros em %: ')))/100\n",
        "caixa = dados.split()\n",
        "for i in range(len(caixa)):\n",
        "  caixa[i] = float(caixa[i])\n",
        "caixa.insert(0,-investimento)\n",
        "caixa_desc = []\n",
        "for i,v in enumerate(caixa):\n",
        "  caixa_desc.append(v/((1+taxa)**i))\n",
        "vpl = sum(caixa_desc)\n",
        "print(f'O VPL é R$ {vpl:,.2f}')"
      ],
      "metadata": {
        "colab": {
          "base_uri": "https://localhost:8080/"
        },
        "id": "Kk0VoxpmuQIs",
        "outputId": "5ba606e5-2736-4118-b8fb-bfc02313ec2f"
      },
      "execution_count": null,
      "outputs": [
        {
          "output_type": "stream",
          "name": "stdout",
          "text": [
            "Informe o valor do investimento em R$: 160000\n",
            "Informe os valores de retorno separados por espaços: 30000 40000 50000 60000 70000\n",
            "Informe a taxa de juros em %: 12\n",
            "O VPL é R$ 12,113.45\n"
          ]
        }
      ]
    },
    {
      "cell_type": "code",
      "source": [
        "'''\n",
        "Agora imagine que a área de planejamento fez o cálculo do WACC de forma\n",
        "incorreta, e você deverá calculá-lo e refazer a análise do projeto anterior\n",
        "mudando apenas o wacc\n",
        "\n",
        "RF = 10% ao ano\n",
        "RM = 12% ao ano\n",
        "i = 13% ao ano\n",
        "\n",
        "ibov = [1,2,3,4,5]\n",
        "roe = [2,4,6,8,10]\n",
        "\n",
        "we = 60%\n",
        "wd = 40%\n",
        "'''"
      ],
      "metadata": {
        "id": "aLpzB_D4wR04"
      },
      "execution_count": null,
      "outputs": []
    },
    {
      "cell_type": "markdown",
      "source": [
        "![image.png](data:image/png;base64,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)"
      ],
      "metadata": {
        "id": "EVELCe_m4bt9"
      }
    },
    {
      "cell_type": "code",
      "source": [
        "investimento = float(input('Informe o valor do investimento em R$: '))\n",
        "dados = input('Informe os valores de retorno separados por espaços: ')\n",
        "dadosx = input('Informe os valores de ibov separados por espaços: ')\n",
        "dadosy = input('Informe os valores de roe separados por espaços: ')\n",
        "rf = (float(input('Informe a taxa RF em %: ')))/100\n",
        "rm = (float(input('Informe a taxa RM em %: ')))/100\n",
        "taxa = (float(input('Informe a taxa de juros dos empréstimos em %: ')))/100\n",
        "we = (float(input('Informe WE em %: ')))/100\n",
        "wd = 1 - we\n",
        "x = dadosx.split()\n",
        "y = dadosy.split()\n",
        "xq = []\n",
        "xy = []\n",
        "for i in range(len(x)):\n",
        "  x[i] = float(x[i])\n",
        "  y[i] = float(y[i])\n",
        "  xq.append(x[i]**2)\n",
        "  xy.append(x[i]*y[i])\n",
        "sx = sum(x)\n",
        "sy = sum(y)\n",
        "sxq = sum(xq)\n",
        "sxy = sum(xy)\n",
        "n = len(x)\n",
        "beta = (sxy - (sx * sy / n)) / (sxq - (sx**2 / n))\n",
        "ke = rf + beta * (rm - rf)\n",
        "kd = taxa * (1 - 0.34)\n",
        "wacc = (we * ke) + (wd * kd)\n",
        "caixa = dados.split()\n",
        "for i in range(len(caixa)):\n",
        "  caixa[i] = float(caixa[i])\n",
        "caixa.insert(0,-investimento)\n",
        "caixa_desc = []\n",
        "for i,v in enumerate(caixa):\n",
        "  caixa_desc.append(v/((1+wacc)**i))\n",
        "vpl = sum(caixa_desc)\n",
        "print(f'O WACC é {wacc*100:.2f}% ao ano')\n",
        "print(f'O VPL é R$ {vpl:,.2f}')"
      ],
      "metadata": {
        "colab": {
          "base_uri": "https://localhost:8080/"
        },
        "id": "AEWF3CwrxAYE",
        "outputId": "ab7d4c11-3fec-49e9-d006-6f23ff31608f"
      },
      "execution_count": null,
      "outputs": [
        {
          "output_type": "stream",
          "name": "stdout",
          "text": [
            "Informe o valor do investimento em R$: 1000000\n",
            "Informe os valores de retorno separados por espaços: 205600 245200 284800 324400 864000\n",
            "Informe os valores de ibov separados por espaços: 1 2 3 4 5\n",
            "Informe os valores de roe separados por espaços: 2 4 6 8 10\n",
            "Informe a taxa RF em %: 10\n",
            "Informe a taxa RM em %: 12\n",
            "Informe a taxa de juros dos empréstimos em %: 13\n",
            "Informe WE em %: 60\n",
            "O WACC é 11.83% ao ano\n",
            "O VPL é R$ 284,890.87\n"
          ]
        }
      ]
    },
    {
      "cell_type": "markdown",
      "source": [
        "![image.png](data:image/png;base64,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)"
      ],
      "metadata": {
        "id": "OEMEgU224f7-"
      }
    }
  ]
}